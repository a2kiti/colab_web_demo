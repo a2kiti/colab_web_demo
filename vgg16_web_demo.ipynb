{
  "nbformat": 4,
  "nbformat_minor": 0,
  "metadata": {
    "colab": {
      "name": "vgg16_web_demo",
      "version": "0.3.2",
      "provenance": [],
      "collapsed_sections": [],
      "include_colab_link": true
    },
    "kernelspec": {
      "name": "python3",
      "display_name": "Python 3"
    }
  },
  "cells": [
    {
      "cell_type": "markdown",
      "metadata": {
        "id": "view-in-github",
        "colab_type": "text"
      },
      "source": [
        "<a href=\"https://colab.research.google.com/github/a2kiti/colab_web_demo/blob/master/vgg16_web_demo.ipynb\" target=\"_parent\"><img src=\"https://colab.research.google.com/assets/colab-badge.svg\" alt=\"Open In Colab\"/></a>"
      ]
    },
    {
      "metadata": {
        "id": "lmUuQVD5_SXk",
        "colab_type": "code",
        "colab": {}
      },
      "cell_type": "code",
      "source": [
        "from keras.models import load_model\n",
        "import numpy as np\n",
        "import os\n",
        "from scipy.misc import imread, imsave, imresize"
      ],
      "execution_count": 0,
      "outputs": []
    },
    {
      "metadata": {
        "id": "rlSas4Kq_Wj-",
        "colab_type": "code",
        "colab": {}
      },
      "cell_type": "code",
      "source": [
        "from keras.applications.vgg16 import VGG16, preprocess_input, decode_predictions\n",
        "model = VGG16(weights='imagenet')\n",
        "#Executing once to avoid errors\n",
        "preds = model.predict(preprocess_input(np.zeros((1,224,224,3))))"
      ],
      "execution_count": 0,
      "outputs": []
    },
    {
      "metadata": {
        "id": "OG7yVH0eA5Fz",
        "colab_type": "code",
        "colab": {}
      },
      "cell_type": "code",
      "source": [
        "def imageResize(img, h, w):\n",
        "    ih, iw = img.shape[0], img.shape[1]\n",
        "    if ih >= iw:\n",
        "        dst = np.ones([ih, ih, 3], np.uint8) * 255\n",
        "        dst[:, (ih - iw)//2:(ih - iw)//2 + iw] = img\n",
        "    else:\n",
        "        dst = np.ones([iw, iw, 3], np.uint8) * 255\n",
        "        dst[(iw - ih)//2:(iw - ih)//2 + ih, :] = img\n",
        "        \n",
        "    dst = imresize(dst, (h, w))\n",
        "    return dst        \n"
      ],
      "execution_count": 0,
      "outputs": []
    },
    {
      "metadata": {
        "id": "e_pOuaKLCbvp",
        "colab_type": "code",
        "colab": {}
      },
      "cell_type": "code",
      "source": [
        "!wget https://bin.equinox.io/c/4VmDzA7iaHb/ngrok-stable-linux-amd64.zip\n",
        "!unzip ngrok-stable-linux-amd64.zip"
      ],
      "execution_count": 0,
      "outputs": []
    },
    {
      "metadata": {
        "id": "xZNjhzo5CcgD",
        "colab_type": "code",
        "colab": {}
      },
      "cell_type": "code",
      "source": [
        "#Writing to html file on colab\n",
        "\n",
        "html = \"\"\"\n",
        "\n",
        "<!DOCTYPE html>\n",
        "<html>\n",
        "<head>\n",
        "<meta charset=\"utf-8\" />\n",
        "</head>\n",
        "<body>\n",
        "\n",
        "<form action=\"/post\" method=\"post\" enctype=\"multipart/form-data\">\n",
        "    <p><input type=\"file\" name=\"uploadFile\"/></p>\n",
        "    <p><input type=\"submit\" value=\"send\"/></p>\n",
        "</form>\n",
        "\n",
        "{% if ulr_Image %}\n",
        "\n",
        "    <p>Image</p>\n",
        "    <p><img src=\"{{ ulr_Image }}\"></p>\n",
        "    <p>Result</p>\n",
        "    <p>{{ result_class }}</p>\n",
        "    <p>{{ result_score }}</p>\n",
        "\n",
        "{% endif %}\n",
        "\n",
        "</body>\n",
        "</html>\n",
        "\n",
        "\"\"\"\n",
        "\n",
        "#Saving html file\n",
        "if not os.path.isdir( \"templates\" ):\n",
        "    os.makedirs( \"templates\" )\n",
        "with open(\"templates/index.html\", mode='w') as f:\n",
        "    f.write(html)\n",
        "\n",
        "#Making tmp folder to use temporarily stored\n",
        "if not os.path.isdir( \"tmp\" ):\n",
        "    os.makedirs( \"tmp\" )"
      ],
      "execution_count": 0,
      "outputs": []
    },
    {
      "metadata": {
        "id": "9UW61J_fC9Yo",
        "colab_type": "code",
        "colab": {}
      },
      "cell_type": "code",
      "source": [
        "get_ipython().system_raw('./ngrok http 6006 &')\n",
        "! curl -s http://localhost:4040/api/tunnels | python3 -c \\\n",
        "    \"import sys, json; print(json.load(sys.stdin)['tunnels'][0]['public_url'])\"\n",
        "\n",
        "from flask import Flask, render_template, send_from_directory, request, redirect, url_for\n",
        "\n",
        "app = Flask(__name__)\n",
        "\n",
        "@app.route(\"/\")\n",
        "def index():\n",
        "    return render_template( \"index.html\" )\n",
        "\n",
        "@app.route('/post', methods=['POST'])\n",
        "def post():\n",
        "    try:\n",
        "        uploadFile = request.files['uploadFile']\n",
        "    except:\n",
        "        return redirect(url_for('index'))\n",
        "    \n",
        "    uploadFile.save(\"tmp/\" + uploadFile.filename)\n",
        "    \n",
        "    img = imread(\"tmp/\" + uploadFile.filename)\n",
        "    if img.shape[-1] == 4:\n",
        "        img = img[:,:,0:3]\n",
        "    img = imageResize(img, 224, 224)\n",
        "    fileName = str(np.random.randint(1000)) + \".jpg\"\n",
        "    imsave(\"tmp/\" + fileName, img)\n",
        "    ulr_Image = \"tmp/\" + fileName\n",
        "    \n",
        "    img = np.expand_dims(img, axis=0)\n",
        "    print(img.shape)\n",
        "    preds = model.predict(preprocess_input(img))\n",
        "    result = decode_predictions(preds, top=1)[0][0]\n",
        "    result_class = \"Class: \" + result[1]\n",
        "    result_score = \"Score: \" + str(result[2])\n",
        "    \n",
        "    return render_template( \"index.html\",\n",
        "                                        ulr_Image = ulr_Image,\n",
        "                                        result_class = result_class,\n",
        "                                        result_score = result_score)\n",
        "\n",
        "@app.route('/tmp/<filename>')\n",
        "def uploaded_file(filename):\n",
        "    return send_from_directory(\"./tmp\", filename)\n",
        "\n",
        "if __name__ == '__main__':\n",
        "    app.run(port=6006)"
      ],
      "execution_count": 0,
      "outputs": []
    }
  ]
}