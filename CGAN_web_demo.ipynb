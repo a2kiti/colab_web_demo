{
  "nbformat": 4,
  "nbformat_minor": 0,
  "metadata": {
    "colab": {
      "name": "CGAN_web_demo.ipynb",
      "version": "0.3.2",
      "provenance": [],
      "collapsed_sections": [],
      "include_colab_link": true
    },
    "kernelspec": {
      "name": "python3",
      "display_name": "Python 3"
    }
  },
  "cells": [
    {
      "cell_type": "markdown",
      "metadata": {
        "id": "view-in-github",
        "colab_type": "text"
      },
      "source": [
        "<a href=\"https://colab.research.google.com/github/a2kiti/colab_web_demo/blob/master/CGAN_web_demo.ipynb\" target=\"_parent\"><img src=\"https://colab.research.google.com/assets/colab-badge.svg\" alt=\"Open In Colab\"/></a>"
      ]
    },
    {
      "metadata": {
        "id": "GvWOHK6f6BK1",
        "colab_type": "code",
        "colab": {}
      },
      "cell_type": "code",
      "source": [
        "#Connecting to googledrive\n",
        "from google.colab import drive\n",
        "drive.mount('/content/gdrive')"
      ],
      "execution_count": 0,
      "outputs": []
    },
    {
      "metadata": {
        "id": "NAAF0PXL2hTJ",
        "colab_type": "code",
        "colab": {}
      },
      "cell_type": "code",
      "source": [
        "modelpath = 'gdrive/My Drive/Colab Notebooks/CGAN_model.hdf5'"
      ],
      "execution_count": 0,
      "outputs": []
    },
    {
      "metadata": {
        "id": "hkFMwtaN6F2v",
        "colab_type": "code",
        "colab": {}
      },
      "cell_type": "code",
      "source": [
        "from keras.models import load_model\n",
        "import numpy as np\n",
        "import os\n",
        "from scipy.misc import imsave"
      ],
      "execution_count": 0,
      "outputs": []
    },
    {
      "metadata": {
        "id": "cgq7gsp26ILN",
        "colab_type": "code",
        "colab": {}
      },
      "cell_type": "code",
      "source": [
        "gen = load_model(modelpath)\n",
        "z_dim = 100\n",
        "class_num = 10\n",
        "\n",
        "#Executing once to avoid errors\n",
        "_ = gen.predict(np.zeros((1, z_dim+class_num)))"
      ],
      "execution_count": 0,
      "outputs": []
    },
    {
      "metadata": {
        "id": "B78sfraf6KeA",
        "colab_type": "code",
        "colab": {}
      },
      "cell_type": "code",
      "source": [
        "!wget https://bin.equinox.io/c/4VmDzA7iaHb/ngrok-stable-linux-amd64.zip\n",
        "!unzip ngrok-stable-linux-amd64.zip"
      ],
      "execution_count": 0,
      "outputs": []
    },
    {
      "metadata": {
        "id": "XHPoNkiV6OwK",
        "colab_type": "code",
        "colab": {}
      },
      "cell_type": "code",
      "source": [
        "#Writing to html file on colab\n",
        "\n",
        "html = \"\"\"\n",
        "\n",
        "<!DOCTYPE html>\n",
        "<html>\n",
        "<head>\n",
        "<meta charset=\"utf-8\" />\n",
        "</head>\n",
        "<body>\n",
        "\n",
        "<form action=\"/post\" method=\"post\">\n",
        "<p>label：<input type=\"text\" name=\"label\"></p>\n",
        "<p><input type=\"submit\" value=\"send\"/></p>\n",
        "</form>\n",
        "\n",
        "{% if ulr_Image %}\n",
        "\n",
        "    <p>Generated image</p>\n",
        "    <p><img src=\"{{ ulr_Image }}\"></p>\n",
        "    \n",
        "\n",
        "{% endif %}\n",
        "\n",
        "</body>\n",
        "</html>\n",
        "\n",
        "\"\"\"\n",
        "\n",
        "#Saving html file\n",
        "if not os.path.isdir( \"templates\" ):\n",
        "    os.makedirs( \"templates\" )\n",
        "with open(\"templates/index.html\", mode='w') as f:\n",
        "    f.write(html)\n",
        "\n",
        "#Making tmp folder to use temporarily stored\n",
        "if not os.path.isdir( \"tmp\" ):\n",
        "    os.makedirs( \"tmp\" )"
      ],
      "execution_count": 0,
      "outputs": []
    },
    {
      "metadata": {
        "id": "0qy7UWwL6ROC",
        "colab_type": "code",
        "colab": {}
      },
      "cell_type": "code",
      "source": [
        "get_ipython().system_raw('./ngrok http 6006 &')\n",
        "! curl -s http://localhost:4040/api/tunnels | python3 -c \\\n",
        "    \"import sys, json; print(json.load(sys.stdin)['tunnels'][0]['public_url'])\"\n",
        "\n",
        "from flask import Flask, render_template, send_from_directory, request, redirect, url_for\n",
        "\n",
        "app = Flask(__name__)\n",
        "\n",
        "@app.route(\"/\")\n",
        "def index():\n",
        "    return render_template( \"index.html\" )\n",
        "\n",
        "@app.route('/post', methods=['POST'])\n",
        "def post():\n",
        "    label = request.form['label']\n",
        "    if label == \"0\" or label == \"1\" or label == \"2\" or label == \"3\" or label == \"4\" or label == \"5\" or label == \"6\" or label == \"7\" or label == \"8\" or label == \"9\": \n",
        "        label = int(label)\n",
        "    else:\n",
        "        return redirect(url_for('index'))\n",
        "    \n",
        "    noise = np.random.normal(0, 1, (1, z_dim))\n",
        "    noise_label = np.zeros((1, class_num))\n",
        "    noise_label[:, label] = 1\n",
        "    noise_with_label = np.concatenate((noise, noise_label),axis=1)\n",
        "\n",
        "    img = (0.5 * gen.predict(noise_with_label) + 0.5)\n",
        "    #mono or color\n",
        "    if img.shape[-1] == 1:\n",
        "        img=img.reshape(img.shape[1],img.shape[2])\n",
        "    else:\n",
        "        img = img.reshape(img.shape[1],img.shape[2],img.shape[3])\n",
        "    fileName = str(np.random.randint(1000)) + \".jpg\"\n",
        "    imsave(\"tmp/\" + fileName, img)\n",
        "    ulr_Image = \"tmp/\" + fileName\n",
        "    \n",
        "    return render_template( \"index.html\",\n",
        "                                        ulr_Image = ulr_Image)\n",
        "\n",
        "@app.route('/tmp/<filename>')\n",
        "def uploaded_file(filename):\n",
        "    return send_from_directory(\"./tmp\", filename)\n",
        "\n",
        "if __name__ == '__main__':\n",
        "    app.run(port=6006)"
      ],
      "execution_count": 0,
      "outputs": []
    }
  ]
}